{
 "cells": [
  {
   "cell_type": "code",
   "execution_count": 1,
   "metadata": {
    "scrolled": true
   },
   "outputs": [],
   "source": [
    "from selenium import webdriver\n",
    "import time\n",
    "from selenium.webdriver.common.by import By\n",
    "from selenium.webdriver.support.ui import Select\n",
    "import random\n",
    "from datetime import datetime\n",
    "\n",
    "\n",
    "def get_week_of_month(query_date):\n",
    "    end = int(query_date.strftime(\"%W\"))\n",
    "    begin = int(datetime(query_date.year, query_date.month, 1).strftime(\"%W\"))\n",
    "    return f'[{end - begin + 1}]',f'[{int(query_date.strftime(\"%w\"))+1}]'\n",
    "\n",
    "\n",
    "def rob(name='',date=0,tempV=36.8):\n",
    "    nameWeb = driver.find_element_by_xpath('//*[@id=\"survey\"]/div/div/div[2]/div/div/div[1]/div/div[1]/div[3]/div[3]/div[2]/input')\n",
    "    nameWeb.send_keys(name)\n",
    "    temp = driver.find_element_by_xpath('//*[@id=\"survey\"]/div/div/div[2]/div/div/div[1]/div/div[1]/div[4]/div[3]/div[2]/input')\n",
    "    temp.send_keys(str(tempV))\n",
    "    select = Select(driver.find_element_by_xpath('//*[@id=\"survey\"]/div/div/div[2]/div/div/div[1]/div/div[1]/div[2]/div[3]/div[2]/div/select'))\n",
    "    select.select_by_value('opt_26041913')\n",
    "    dateWeb = driver.find_element_by_xpath('//*[@id=\"survey\"]/div/div/div[2]/div/div/div[1]/div/div[1]/div[1]/div[3]/div[2]/div/div[1]/input')\n",
    "    status = driver.find_element_by_xpath('//*[@id=\"survey\"]/div/div/div[2]/div/div/div[1]/div/div[1]/div[5]/div[3]/div[2]/div/div[1]/div/span/span[1]/div/div[1]')\n",
    "    same = driver.find_element_by_xpath('//*[@id=\"survey\"]/div/div/div[2]/div/div/div[1]/div/div[1]/div[6]/div[3]/div[2]/div/div[1]/div/span/span[1]/div/div[1]')\n",
    "    driver.execute_script('arguments[0].click();', same)\n",
    "    driver.execute_script('arguments[0].click();', status)\n",
    "    driver.execute_script('arguments[0].click();', dateWeb)\n",
    "    try:\n",
    "        time.sleep(1)\n",
    "        button = driver.find_element_by_xpath(f'//*[@id=\"survey\"]/div/div/div[2]/div/div/div[1]/div/div[1]/div[1]/div[3]/div[2]/div/div[2]/div/table/tbody/tr{dd[0]}/td{dd[1]}')\n",
    "        button.click()\n",
    "    except NoSuchElementException:\n",
    "        time.sleep(5)\n",
    "        button = driver.find_element_by_xpath(f'//*[@id=\"survey\"]/div/div/div[2]/div/div/div[1]/div/div[1]/div[1]/div[3]/div[2]/div/div[2]/div/table/tbody/tr{dd[0]}/td{dd[1]}')\n",
    "        button.click()\n",
    "tempV = round(random.uniform(36.1,37.0),1)\n",
    "query_date = datetime.now()\n",
    "dd = get_week_of_month(query_date)\n",
    "driver = webdriver.Chrome()\n",
    "driver.get('https://www.surveycake.com/s/rrAVV')\n",
    "time.sleep(5)\n",
    "\n",
    "rob('陳伯維',0,tempV)\n"
   ]
  },
  {
   "cell_type": "code",
   "execution_count": null,
   "metadata": {},
   "outputs": [],
   "source": []
  },
  {
   "cell_type": "code",
   "execution_count": null,
   "metadata": {},
   "outputs": [],
   "source": []
  }
 ],
 "metadata": {
  "kernelspec": {
   "display_name": "Python 3",
   "language": "python",
   "name": "python3"
  },
  "language_info": {
   "codemirror_mode": {
    "name": "ipython",
    "version": 3
   },
   "file_extension": ".py",
   "mimetype": "text/x-python",
   "name": "python",
   "nbconvert_exporter": "python",
   "pygments_lexer": "ipython3",
   "version": "3.8.2"
  },
  "varInspector": {
   "cols": {
    "lenName": 16,
    "lenType": 16,
    "lenVar": 40
   },
   "kernels_config": {
    "python": {
     "delete_cmd_postfix": "",
     "delete_cmd_prefix": "del ",
     "library": "var_list.py",
     "varRefreshCmd": "print(var_dic_list())"
    },
    "r": {
     "delete_cmd_postfix": ") ",
     "delete_cmd_prefix": "rm(",
     "library": "var_list.r",
     "varRefreshCmd": "cat(var_dic_list()) "
    }
   },
   "position": {
    "height": "274px",
    "left": "1070px",
    "right": "20px",
    "top": "120px",
    "width": "350px"
   },
   "types_to_exclude": [
    "module",
    "function",
    "builtin_function_or_method",
    "instance",
    "_Feature"
   ],
   "window_display": false
  }
 },
 "nbformat": 4,
 "nbformat_minor": 4
}
